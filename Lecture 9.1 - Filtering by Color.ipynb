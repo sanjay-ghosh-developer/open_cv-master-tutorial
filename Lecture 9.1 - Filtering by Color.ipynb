{
 "cells": [
  {
   "cell_type": "markdown",
   "metadata": {},
   "source": [
    "## Filtering by Color"
   ]
  },
  {
   "cell_type": "code",
   "execution_count": null,
   "metadata": {},
   "outputs": [],
   "source": [
    "import cv2\n",
    "import numpy as np\n",
    "\n",
    "# Initialize webcam\n",
    "cap = cv2.VideoCapture(0)\n",
    "\n",
    "# define range of PURPLE color in HSV\n",
    "lower_purple = np.array([100,80,90])\n",
    "upper_purple = np.array([110,90,105])\n",
    "\n",
    "# loop until break statement is exectured\n",
    "while True:\n",
    "    \n",
    "    # Read webcam image\n",
    "    ret, frame = cap.read()\n",
    "    \n",
    "    # Convert image from RBG/BGR to HSV so we easily filter\n",
    "    hsv_img = cv2.cvtColor(frame, cv2.COLOR_BGR2HSV)\n",
    "\n",
    "\n",
    "    # Use inRange to capture only the values between lower & upper_blue\n",
    "    mask = cv2.inRange(hsv_img, lower_purple, upper_purple)\n",
    "\n",
    "    # Perform Bitwise AND on mask and our original frame\n",
    "    res = cv2.bitwise_and(frame, frame, mask=mask)\n",
    "\n",
    "    cv2.imshow('Original', frame)  \n",
    "    cv2.imshow('mask', mask)\n",
    "    cv2.imshow('Filtered Color Only', res)\n",
    "    if cv2.waitKey(33) == ord('x'):\n",
    "        break\n",
    "        \n",
    "cap.release()\n",
    "cv2.destroyAllWindows()"
   ]
  },
  {
   "cell_type": "code",
   "execution_count": null,
   "metadata": {},
   "outputs": [],
   "source": []
  },
  {
   "cell_type": "code",
   "execution_count": null,
   "metadata": {},
   "outputs": [],
   "source": [
    "import cv2\n",
    "import numpy as np\n",
    "import sys\n",
    "import tkinter as tk\n",
    "from tkinter import filedialog\n",
    "\n",
    "image_hsv = None\n",
    "pixel = (0,0,0) #RANDOM DEFAULT VALUE\n",
    "\n",
    "ftypes = [\n",
    "    ('JPG', '*.jpg;*.JPG;*.JPEG'), \n",
    "    ('PNG', '*.png;*.PNG'),\n",
    "    ('GIF', '*.gif;*.GIF'),\n",
    "]\n",
    "\n",
    "def pick_color(event,x,y,flags,param):\n",
    "    if event == cv2.EVENT_LBUTTONDOWN:\n",
    "        pixel = image_hsv[y,x]\n",
    "\n",
    "        #HUE, SATURATION, AND VALUE (BRIGHTNESS) RANGES. TOLERANCE COULD BE ADJUSTED.\n",
    "        upper =  np.array([pixel[0] + 10, pixel[1] + 10, pixel[2] + 40])\n",
    "        lower =  np.array([pixel[0] - 10, pixel[1] - 10, pixel[2] - 40])\n",
    "        print(lower, upper)\n",
    "\n",
    "        #A MONOCHROME MASK FOR GETTING A BETTER VISION OVER THE COLORS \n",
    "        image_mask = cv2.inRange(image_hsv,lower,upper)\n",
    "        cv2.imshow(\"Mask\",image_mask)\n",
    "\n",
    "def main():\n",
    "\n",
    "    global image_hsv, pixel\n",
    "\n",
    "    #OPEN DIALOG FOR READING THE IMAGE FILE\n",
    "    root = tk.Tk()\n",
    "    root.withdraw() #HIDE THE TKINTER GUI\n",
    "    file_path = filedialog.askopenfilename(filetypes = ftypes)\n",
    "    image_src = cv2.imread(file_path)\n",
    "    cv2.imshow(\"BGR\",image_src)\n",
    "\n",
    "    #CREATE THE HSV FROM THE BGR IMAGE\n",
    "    image_hsv = cv2.cvtColor(image_src,cv2.COLOR_BGR2HSV)\n",
    "    cv2.imshow(\"HSV\",image_hsv)\n",
    "\n",
    "    #CALLBACK FUNCTION\n",
    "    cv2.setMouseCallback(\"HSV\", pick_color)\n",
    "\n",
    "    cv2.waitKey(0)\n",
    "    cv2.destroyAllWindows()\n",
    "\n",
    "if __name__=='__main__':\n",
    "    main()"
   ]
  },
  {
   "cell_type": "code",
   "execution_count": null,
   "metadata": {},
   "outputs": [],
   "source": []
  }
 ],
 "metadata": {
  "kernelspec": {
   "display_name": "Python 3",
   "language": "python",
   "name": "python3"
  },
  "language_info": {
   "codemirror_mode": {
    "name": "ipython",
    "version": 3
   },
   "file_extension": ".py",
   "mimetype": "text/x-python",
   "name": "python",
   "nbconvert_exporter": "python",
   "pygments_lexer": "ipython3",
   "version": "3.7.5"
  }
 },
 "nbformat": 4,
 "nbformat_minor": 1
}
