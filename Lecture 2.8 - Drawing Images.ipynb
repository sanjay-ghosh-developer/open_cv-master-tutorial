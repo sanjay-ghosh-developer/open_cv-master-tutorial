{
 "cells": [
  {
   "cell_type": "markdown",
   "metadata": {},
   "source": [
    "## Drawing images and shapes using OpenCV\n",
    "\n",
    "Let's start off my making a black square"
   ]
  },
  {
   "cell_type": "code",
   "execution_count": 1,
   "metadata": {},
   "outputs": [],
   "source": [
    "import cv2\n",
    "import numpy as np\n",
    "\n",
    "# Create a black image\n",
    "image = np.zeros((512,512,3), np.uint8)\n",
    "\n",
    "# Can we make this in black and white?\n",
    "image_bw = np.zeros((512,512), np.uint8)\n",
    "\n",
    "cv2.imshow(\"Black Rectangle (Color)\", image)\n",
    "cv2.imshow(\"Black Rectangle (B&W)\", image_bw)\n",
    "\n",
    "cv2.waitKey(0)\n",
    "cv2.destroyAllWindows()"
   ]
  },
  {
   "cell_type": "markdown",
   "metadata": {},
   "source": [
    "### Let's draw a line over our black sqare\n",
    "\n",
    "cv2.line(image, starting cordinates, ending cordinates, color, thickness)"
   ]
  },
  {
   "cell_type": "code",
   "execution_count": 2,
   "metadata": {},
   "outputs": [],
   "source": [
    "# Draw a diagonal blue line of thickness of 5 pixels\n",
    "image = np.zeros((512,512,3), np.uint8)\n",
    "cv2.line(image, (0,0), (511,511), (255,127,0), 5)\n",
    "cv2.imshow(\"Blue Line\", image)\n",
    "\n",
    "cv2.waitKey(0)\n",
    "cv2.destroyAllWindows()"
   ]
  },
  {
   "cell_type": "markdown",
   "metadata": {},
   "source": [
    "### Let's now draw a rectangle\n",
    "\n",
    "cv2.rectangle(image, starting vertex, opposite vertex, color, thickness)\n",
    "\n",
    "<p><strong>Parameters:</strong><br>\n",
    "<strong>image:</strong> It is the image on which rectangle is to be drawn.<br>\n",
    "<strong>start_point:</strong> It is the starting coordinates of rectangle. The coordinates are represented as tuples of two values i.e. (<b>X</b> coordinate value, <b>Y</b> coordinate value).<br>\n",
    "<strong>end_point:</strong> It is the ending coordinates of rectangle. The coordinates are represented as tuples of two values i.e. (<b>X</b> coordinate value, <b>Y</b> coordinate value).<br>\n",
    "<strong>color:</strong> It is the color of border line of rectangle to be drawn. For <b>BGR</b>, we pass a tuple. eg: (255, 0, 0) for blue color.<br>\n",
    "<strong>thickness:</strong> It is the thickness of the rectangle border line in <b>px</b>. Thickness of <b>-1 px</b> will fill the rectangle shape by the specified color.</p>"
   ]
  },
  {
   "cell_type": "code",
   "execution_count": 3,
   "metadata": {},
   "outputs": [],
   "source": [
    "# Draw a Rectangle in\n",
    "image = np.zeros((512,512,3), np.uint8)\n",
    "\n",
    "#Syntax: cv2.rectangle(image, start_point, end_point, color, thickness)\n",
    "cv2.rectangle(image, (100,100), (300,250), (127,50,127), -1)\n",
    "cv2.imshow(\"Rectangle\", image)\n",
    "cv2.waitKey(0)\n",
    "cv2.destroyAllWindows()"
   ]
  },
  {
   "cell_type": "markdown",
   "metadata": {},
   "source": [
    "### How about cirlcles?\n",
    "\n",
    "cv2.cirlce(image, center, radius, color, fill)\n",
    "\n",
    "<p><strong>Parameters:</strong><br>\n",
    "<strong>image:</strong> It is the image on which circle is to be drawn.<br>\n",
    "<strong>center_coordinates:</strong> It is the center coordinates of circle. The coordinates are represented as tuples of two values i.e. (<b>X</b> coordinate value, <b>Y</b> coordinate value).<br>\n",
    "<strong>radius:</strong> It is the radius of circle.<br>\n",
    "<strong>color:</strong> It is the color of border line of circle to be drawn. For <b>BGR</b>, we pass a tuple. eg: (255, 0, 0) for blue color.<br>\n",
    "<strong>thickness:</strong> It is the thickness of the circle border line in <b>px</b>. Thickness of <b>-1 px</b> will fill the rectangle shape by the specified color.</p>"
   ]
  },
  {
   "cell_type": "code",
   "execution_count": 26,
   "metadata": {},
   "outputs": [],
   "source": [
    "image = np.zeros((512,512,3), np.uint8)\n",
    "\n",
    "#Syntax: cv2.circle(image, center_coordinates, radius, color, thickness)\n",
    "cv2.circle(image, (350, 350), 100, (15,75,50), -1) \n",
    "cv2.imshow(\"Circle\", image)\n",
    "cv2.waitKey(0)\n",
    "cv2.destroyAllWindows()"
   ]
  },
  {
   "cell_type": "markdown",
   "metadata": {},
   "source": [
    "## And polygons?\n",
    "\n",
    "<th class=\"field-name\"><h3>Parameters:</h3></th><td class=\"field-body\"><ul class=\"first last simple\">\n",
    "<li><strong>img</strong> – Image.</li>\n",
    "<li><strong>pts</strong> – Array of polygonal curves.</li>\n",
    "<li><strong>npts</strong> – Array of polygon vertex counters.</li>\n",
    "<li><strong>ncontours</strong> – Number of curves.</li>\n",
    "<li><strong>isClosed</strong> – Flag indicating whether the drawn polylines are closed or not. If they are closed, the function draws a line from the last vertex of each curve to its first vertex.</li>\n",
    "<li><strong>color</strong> – Polyline color.</li>\n",
    "<li><strong>thickness</strong> – Thickness of the polyline edges.</li>\n",
    "<li><strong>lineType</strong> – Type of the line segments. See the  <a class=\"reference internal\" href=\"#void line(Mat&amp; img, Point pt1, Point pt2, const Scalar&amp; color, int thickness, int lineType, int shift)\" title=\"void line(Mat&amp; img, Point pt1, Point pt2, const Scalar&amp; color, int thickness, int lineType, int shift)\"><code class=\"xref ocv ocv-func docutils literal\"><span class=\"pre\">line()</span></code></a>  description.</li>\n",
    "<li><strong>shift</strong> – Number of fractional bits in the vertex coordinates.</li>\n",
    "</ul>\n",
    "</td>\n",
    "</tr>"
   ]
  },
  {
   "cell_type": "code",
   "execution_count": 4,
   "metadata": {},
   "outputs": [],
   "source": [
    "image = np.zeros((512,512,3), np.uint8)\n",
    "\n",
    "# Let's define four points\n",
    "pts = np.array( [[10,50], [400,50], [90,200], [50,500]], np.int32)\n",
    "\n",
    "# Let's now reshape our points in form  required by polylines\n",
    "pts = pts.reshape((-1,1,2))\n",
    "\n",
    "cv2.polylines(image, [pts], True, (0,0,255), 3)\n",
    "cv2.imshow(\"Polygon\", image)\n",
    "cv2.waitKey(0)\n",
    "cv2.destroyAllWindows()"
   ]
  },
  {
   "cell_type": "markdown",
   "metadata": {},
   "source": [
    "### Let's even add text with cv2.putText\n",
    "\n",
    "cv2.putText(image, 'Text to Display', bottom left starting point, Font, Font Size, Color, Thickness)\n",
    "\n",
    "- FONT_HERSHEY_SIMPLEX, FONT_HERSHEY_PLAIN\n",
    "- FONT_HERSHEY_DUPLEX,FONT_HERSHEY_COMPLEX \n",
    "- FONT_HERSHEY_TRIPLEX, FONT_HERSHEY_COMPLEX_SMALL\n",
    "- FONT_HERSHEY_SCRIPT_SIMPLEX\n",
    "- FONT_HERSHEY_SCRIPT_COMPLEX"
   ]
  },
  {
   "cell_type": "code",
   "execution_count": 5,
   "metadata": {},
   "outputs": [],
   "source": [
    "image = np.zeros((512,512,3), np.uint8)\n",
    "\n",
    "cv2.putText(image, 'Hello World!', (75,290), cv2.FONT_HERSHEY_COMPLEX, 2, (100,170,0), 3)\n",
    "cv2.imshow(\"Hello World!\", image)\n",
    "cv2.waitKey(0)\n",
    "cv2.destroyAllWindows()"
   ]
  },
  {
   "cell_type": "code",
   "execution_count": null,
   "metadata": {
    "collapsed": true
   },
   "outputs": [],
   "source": []
  }
 ],
 "metadata": {
  "kernelspec": {
   "display_name": "Python 3",
   "language": "python",
   "name": "python3"
  },
  "language_info": {
   "codemirror_mode": {
    "name": "ipython",
    "version": 3
   },
   "file_extension": ".py",
   "mimetype": "text/x-python",
   "name": "python",
   "nbconvert_exporter": "python",
   "pygments_lexer": "ipython3",
   "version": "3.7.3"
  }
 },
 "nbformat": 4,
 "nbformat_minor": 1
}
