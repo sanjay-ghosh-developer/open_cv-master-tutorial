{
 "cells": [
  {
   "cell_type": "markdown",
   "metadata": {},
   "source": [
    "## Rotations\n",
    "\n",
    "cv2.getRotationMatrix2D(rotation_center_x, rotation_center_y, angle of rotation, scale)\n"
   ]
  },
  {
   "cell_type": "code",
   "execution_count": 1,
   "metadata": {},
   "outputs": [],
   "source": [
    "import cv2\n",
    "import numpy as np\n",
    "\n",
    "image = cv2.imread('images/input.jpg')\n",
    "height, width = image.shape[:2]\n",
    "\n",
    "# Divide by two to rototate the image around its centre\n",
    "rotation_matrix = cv2.getRotationMatrix2D((width/2, height/2), 90, .5)\n",
    "\n",
    "rotated_image = cv2.warpAffine(image, rotation_matrix, (width, height))\n",
    "\n",
    "cv2.imshow('Rotated Image', rotated_image)\n",
    "cv2.waitKey()\n",
    "cv2.destroyAllWindows()"
   ]
  },
  {
   "cell_type": "markdown",
   "metadata": {},
   "source": [
    "### Notice all the black space surrounding the image.\n",
    "\n",
    "We could now crop the image as we can calculate it's new size (we haven't learned cropping yet!).\n",
    "\n",
    "But here's another method for simple rotations that uses the cv2.transpose function"
   ]
  },
  {
   "cell_type": "code",
   "execution_count": 2,
   "metadata": {},
   "outputs": [],
   "source": [
    "#Other Option to Rotate\n",
    "img = cv2.imread('images/input.jpg')\n",
    "\n",
    "rotated_image = cv2.transpose(img)\n",
    "\n",
    "cv2.imshow('Rotated Image - Method 2', rotated_image)\n",
    "cv2.waitKey()\n",
    "cv2.destroyAllWindows()"
   ]
  },
  {
   "cell_type": "markdown",
   "metadata": {},
   "source": [
    "<div class=\"section\" id=\"flip\">\n",
    "<h2>flip<a class=\"headerlink\" href=\"#flip\" title=\"Permalink to this headline\">¶</a></h2>\n",
    "<p>Flips a 2D array around vertical, horizontal, or both axes.</p>\n",
    "<dl class=\"function\">\n",
    "<dt id=\"void flip(InputArray src, OutputArray dst, int flipCode)\">\n",
    "\n",
    "\n",
    "<dl class=\"pyoldfunction\">\n",
    "<dt id=\"cv.Flip\">\n",
    "<strong>Python:</strong><code class=\"descname\"> </code><code class=\"descclassname\">cv.</code><code class=\"descname\">Flip</code><span class=\"sig-paren\">(</span>src, dst=None, flipMode=0<span class=\"sig-paren\">)</span> → None<a class=\"headerlink\" href=\"#cv.Flip\" title=\"Permalink to this definition\">¶</a></dt>\n",
    "<dd><table class=\"docutils field-list\" frame=\"void\" rules=\"none\">\n",
    "<colgroup><col class=\"field-name\">\n",
    "<col class=\"field-body\">\n",
    "</colgroup><tbody valign=\"top\">\n",
    "<tr class=\"field-odd field\"><th class=\"field-name\">Parameters:</th><td class=\"field-body\"><ul class=\"first last simple\">\n",
    "<li><strong>src</strong> – input array.</li>\n",
    "<li><strong>dst</strong> – output array of the same size and type as <code class=\"docutils literal\"><span class=\"pre\">src</span></code>.</li>\n",
    "<li><strong>flipCode</strong> – a flag to specify how to flip the array; 0 means flipping around the x-axis and positive value (for example, 1) means flipping around y-axis. Negative value (for example, -1) means flipping around both axes (see the discussion below for the formulas).</li>\n",
    "</ul>\n",
    "</td>\n",
    "</tr>\n",
    "</tbody>\n",
    "</table>\n",
    "</dd></dl>\n",
    "\n",
    "<p>The example scenarios of using the function are the following:</p>\n",
    "<blockquote>\n",
    "<div><ul class=\"simple\">\n",
    "<li>Vertical flipping of the image (<code class=\"docutils literal\"><span class=\"pre\">flipCode</span> <span class=\"pre\">==</span> <span class=\"pre\">0</span></code>) to switch between top-left and bottom-left image origin. This is a typical operation in video processing on Microsoft Windows* OS.</li>\n",
    "<li>Horizontal flipping of the image with the subsequent horizontal shift and absolute difference calculation to check for a vertical-axis symmetry (<code class=\"docutils literal\"><span class=\"pre\">flipCode</span> <span class=\"pre\">&gt;</span> <span class=\"pre\">0</span></code>).</li>\n",
    "<li>Simultaneous horizontal and vertical flipping of the image with the subsequent shift and absolute difference calculation to check for a central symmetry (<code class=\"docutils literal\"><span class=\"pre\">flipCode</span> <span class=\"pre\">&lt;</span> <span class=\"pre\">0</span></code>).</li>\n",
    "<li>Reversing the order of point arrays (<code class=\"docutils literal\"><span class=\"pre\">flipCode</span> <span class=\"pre\">&gt;</span> <span class=\"pre\">0</span></code> or <code class=\"docutils literal\"><span class=\"pre\">flipCode</span> <span class=\"pre\">==</span> <span class=\"pre\">0</span></code>).</li>\n",
    "</ul>\n",
    "</div>"
   ]
  },
  {
   "cell_type": "code",
   "execution_count": 5,
   "metadata": {},
   "outputs": [],
   "source": [
    "# Let's now to a horizontal flip.\n",
    "flipped = cv2.flip(image, 1)\n",
    "cv2.imshow('Horizontal Flip', flipped) \n",
    "cv2.waitKey()\n",
    "cv2.destroyAllWindows()"
   ]
  },
  {
   "cell_type": "code",
   "execution_count": null,
   "metadata": {},
   "outputs": [],
   "source": []
  }
 ],
 "metadata": {
  "kernelspec": {
   "display_name": "Python 3",
   "language": "python",
   "name": "python3"
  },
  "language_info": {
   "codemirror_mode": {
    "name": "ipython",
    "version": 3
   },
   "file_extension": ".py",
   "mimetype": "text/x-python",
   "name": "python",
   "nbconvert_exporter": "python",
   "pygments_lexer": "ipython3",
   "version": "3.7.3"
  }
 },
 "nbformat": 4,
 "nbformat_minor": 1
}
