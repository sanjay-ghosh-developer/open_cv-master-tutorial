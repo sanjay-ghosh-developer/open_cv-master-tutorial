{
 "cells": [
  {
   "cell_type": "markdown",
   "metadata": {},
   "source": [
    "## Mini Project # 10 - Object Tracking"
   ]
  },
  {
   "cell_type": "code",
   "execution_count": 25,
   "metadata": {},
   "outputs": [
    {
     "name": "stdout",
     "output_type": "stream",
     "text": [
      "[154 100 101] [194 200 301]\n"
     ]
    }
   ],
   "source": [
    "#color picker for opencv\n",
    "import cv2\n",
    "import numpy as np\n",
    "import sys\n",
    "import tkinter as tk\n",
    "from tkinter import filedialog\n",
    "\n",
    "upper = np.array([0,0,0])\n",
    "lower = np.array([0,0,0])\n",
    "\n",
    "\n",
    "image_hsv = None\n",
    "pixel = (0,0,0) #RANDOM DEFAULT VALUE\n",
    "\n",
    "ftypes = [\n",
    "    ('JPG', '*.jpg;*.JPG;*.JPEG'), \n",
    "    ('PNG', '*.png;*.PNG'),\n",
    "    ('GIF', '*.gif;*.GIF'),\n",
    "]\n",
    "\n",
    "def pick_color(event,x,y,flags,param):\n",
    "    global upper\n",
    "    global lower\n",
    "    if event == cv2.EVENT_LBUTTONDOWN:\n",
    "        pixel = image_hsv[y,x]\n",
    "\n",
    "        #HUE, SATURATION, AND VALUE (BRIGHTNESS) RANGES. TOLERANCE COULD BE ADJUSTED.\n",
    "        upper =  np.array([pixel[0] + 20, pixel[1] + 50, pixel[2] + 100])\n",
    "        lower =  np.array([pixel[0] - 20, pixel[1] - 50, pixel[2] - 100])\n",
    "        print(lower, upper)\n",
    "\n",
    "        #A MONOCHROME MASK FOR GETTING A BETTER VISION OVER THE COLORS \n",
    "        image_mask = cv2.inRange(image_hsv,lower,upper)\n",
    "        cv2.imshow(\"Mask\",image_mask)\n",
    "\n",
    "def main():\n",
    "\n",
    "    global image_hsv, pixel\n",
    "\n",
    "    #OPEN DIALOG FOR READING THE IMAGE FILE\n",
    "    root = tk.Tk()\n",
    "    root.withdraw() #HIDE THE TKINTER GUI\n",
    "    file_path = filedialog.askopenfilename(filetypes = ftypes)\n",
    "    image_src = cv2.imread(file_path)\n",
    "    cv2.imshow(\"BGR\",image_src)\n",
    "\n",
    "    #CREATE THE HSV FROM THE BGR IMAGE\n",
    "    image_hsv = cv2.cvtColor(image_src,cv2.COLOR_BGR2HSV)\n",
    "    cv2.imshow(\"HSV\",image_hsv)\n",
    "\n",
    "    #CALLBACK FUNCTION\n",
    "    cv2.setMouseCallback(\"HSV\", pick_color)\n",
    "\n",
    "    cv2.waitKey(0)\n",
    "    cv2.destroyAllWindows()\n",
    "\n",
    "if __name__=='__main__':\n",
    "    main()"
   ]
  },
  {
   "cell_type": "code",
   "execution_count": 26,
   "metadata": {},
   "outputs": [],
   "source": [
    "#Object Tracking\n",
    "import cv2\n",
    "import numpy as np\n",
    "\n",
    "# Initalize camera\n",
    "cap = cv2.VideoCapture(0)\n",
    "\n",
    "# define range of purple color in HSV\n",
    "lower_purple = lower#np.array([130,50,90])\n",
    "upper_purple = upper#np.array([170,255,255])\n",
    "\n",
    "# Create empty points array\n",
    "points = []\n",
    "\n",
    "# Get default camera window size\n",
    "ret, frame = cap.read()\n",
    "Height, Width = frame.shape[:2]\n",
    "frame_count = 0\n",
    "\n",
    "while True:\n",
    "\n",
    "    # Capture webcame frame\n",
    "    ret, frame = cap.read()\n",
    "    hsv_img = cv2.cvtColor(frame, cv2.COLOR_BGR2HSV)\n",
    "\n",
    "    # Threshold the HSV image to get only blue colors\n",
    "    mask = cv2.inRange(hsv_img, lower_purple, upper_purple)\n",
    "    #mask = cv2.morphologyEx(mask, cv2.MORPH_OPEN, kernel)\n",
    "    \n",
    "    # Find contours, OpenCV 3.X users use this line instead\n",
    "    #  _, contours, _ = cv2.findContours(mask.copy(), cv2.RETR_EXTERNAL, cv2.CHAIN_APPROX_SIMPLE)\n",
    "    contours, _ = cv2.findContours(mask.copy(), cv2.RETR_EXTERNAL, cv2.CHAIN_APPROX_SIMPLE)\n",
    "    \n",
    "    # Create empty centre array to store centroid center of mass\n",
    "    center =   int(Height/2), int(Width/2)\n",
    "\n",
    "    if len(contours) > 0:\n",
    "        \n",
    "        # Get the largest contour and its center \n",
    "        c = max(contours, key=cv2.contourArea)\n",
    "        (x, y), radius = cv2.minEnclosingCircle(c)\n",
    "        M = cv2.moments(c)\n",
    "        try:\n",
    "            center = (int(M[\"m10\"] / M[\"m00\"]), int(M[\"m01\"] / M[\"m00\"]))\n",
    "\n",
    "        except:\n",
    "            center =   int(Height/2), int(Width/2)\n",
    "\n",
    "        # Allow only countors that have a larger than 15 pixel radius\n",
    "        if radius > 25:\n",
    "            \n",
    "            # Draw cirlce and leave the last center creating a trail\n",
    "            cv2.circle(frame, (int(x), int(y)), int(radius),(0, 0, 255), 2)\n",
    "            cv2.circle(frame, center, 5, (0, 255, 0), -1)\n",
    "            \n",
    "    # Log center points \n",
    "    points.append(center)\n",
    "    \n",
    "    # loop over the set of tracked points\n",
    "    if radius > 25:\n",
    "        for i in range(1, len(points)):\n",
    "            try:\n",
    "                cv2.line(frame, points[i - 1], points[i], (0, 255, 0), 2)\n",
    "            except:\n",
    "                pass\n",
    "            \n",
    "        # Make frame count zero\n",
    "        frame_count = 0\n",
    "    else:\n",
    "        # Count frames \n",
    "        frame_count += 1\n",
    "        \n",
    "        # If we count 10 frames without object lets delete our trail\n",
    "        if frame_count == 10:\n",
    "            points = []\n",
    "            # when frame_count reaches 20 let's clear our trail \n",
    "            frame_count = 0\n",
    "            \n",
    "    # Display our object tracker\n",
    "    frame = cv2.flip(frame, 1)\n",
    "    cv2.imshow(\"Object Tracker\", frame)\n",
    "\n",
    "    if cv2.waitKey(1) == 13: #13 is the Enter Key\n",
    "        break\n",
    "\n",
    "# Release camera and close any open windows\n",
    "cap.release()\n",
    "cv2.destroyAllWindows()"
   ]
  },
  {
   "cell_type": "code",
   "execution_count": 21,
   "metadata": {},
   "outputs": [
    {
     "data": {
      "text/plain": [
       "array([-17, 187, 155])"
      ]
     },
     "execution_count": 21,
     "metadata": {},
     "output_type": "execute_result"
    }
   ],
   "source": [
    "lower"
   ]
  },
  {
   "cell_type": "code",
   "execution_count": 23,
   "metadata": {},
   "outputs": [
    {
     "data": {
      "text/plain": [
       "array([-17, 187, 155])"
      ]
     },
     "execution_count": 23,
     "metadata": {},
     "output_type": "execute_result"
    }
   ],
   "source": [
    "lower_purple"
   ]
  },
  {
   "cell_type": "code",
   "execution_count": null,
   "metadata": {},
   "outputs": [],
   "source": []
  }
 ],
 "metadata": {
  "kernelspec": {
   "display_name": "Python 3",
   "language": "python",
   "name": "python3"
  },
  "language_info": {
   "codemirror_mode": {
    "name": "ipython",
    "version": 3
   },
   "file_extension": ".py",
   "mimetype": "text/x-python",
   "name": "python",
   "nbconvert_exporter": "python",
   "pygments_lexer": "ipython3",
   "version": "3.7.5"
  }
 },
 "nbformat": 4,
 "nbformat_minor": 1
}
